{
 "cells": [
  {
   "cell_type": "markdown",
   "id": "9d5d7e43",
   "metadata": {
    "colab_type": "text",
    "id": "3DR-eO17geWu"
   },
   "source": [
    "# Convolutional Neural Network"
   ]
  },
  {
   "cell_type": "markdown",
   "id": "2fd493b2",
   "metadata": {
    "colab_type": "text",
    "id": "EMefrVPCg-60"
   },
   "source": [
    "### Importing the libraries"
   ]
  },
  {
   "cell_type": "code",
   "execution_count": 1,
   "id": "37f293d6",
   "metadata": {},
   "outputs": [],
   "source": [
    "import tensorflow as tf\n",
    "from keras.preprocessing.image import ImageDataGenerator"
   ]
  },
  {
   "cell_type": "code",
   "execution_count": 2,
   "id": "5f5158d0",
   "metadata": {
    "colab": {},
    "colab_type": "code",
    "id": "FIleuCAjoFD8"
   },
   "outputs": [
    {
     "data": {
      "text/plain": [
       "'2.12.0'"
      ]
     },
     "execution_count": 2,
     "metadata": {},
     "output_type": "execute_result"
    }
   ],
   "source": [
    "tf.__version__"
   ]
  },
  {
   "cell_type": "markdown",
   "id": "cbc2cc59",
   "metadata": {
    "colab_type": "text",
    "id": "oxQxCBWyoGPE"
   },
   "source": [
    "## Part 1 - Data Preprocessing"
   ]
  },
  {
   "cell_type": "markdown",
   "id": "c337cc78",
   "metadata": {
    "colab_type": "text",
    "id": "MvE-heJNo3GG"
   },
   "source": [
    "### Preprocessing the Training set"
   ]
  },
  {
   "cell_type": "code",
   "execution_count": 3,
   "id": "d6cc1a78",
   "metadata": {},
   "outputs": [
    {
     "name": "stdout",
     "output_type": "stream",
     "text": [
      "Found 8005 images belonging to 2 classes.\n"
     ]
    }
   ],
   "source": [
    "train_datagen = ImageDataGenerator(rescale = 1./255,#feature scaling to each and every value by diving all value 255 .\n",
    "                                   shear_range = 0.2,\n",
    "                                   zoom_range = 0.2,\n",
    "                                   horizontal_flip = True)#to prevent overfitting\n",
    "training_set = train_datagen.flow_from_directory(r\"C:\\Users\\udaya\\OneDrive\\Desktop\\Deep Learning\\dog_cat_classification\\training_set\",\n",
    "                                                 target_size = (64,64),\n",
    "                                                 batch_size = 32,\n",
    "                                                 class_mode = 'binary')"
   ]
  },
  {
   "cell_type": "markdown",
   "id": "bb6593e2",
   "metadata": {
    "colab_type": "text",
    "id": "mrCMmGw9pHys"
   },
   "source": [
    "### Preprocessing the Test set"
   ]
  },
  {
   "cell_type": "code",
   "execution_count": 4,
   "id": "5f694154",
   "metadata": {},
   "outputs": [
    {
     "name": "stdout",
     "output_type": "stream",
     "text": [
      "Found 2023 images belonging to 2 classes.\n"
     ]
    }
   ],
   "source": [
    "test_datagen = ImageDataGenerator(rescale = 1./255)\n",
    "test_set = test_datagen.flow_from_directory(r\"C:\\Users\\udaya\\OneDrive\\Desktop\\Deep Learning\\dog_cat_classification\\test_set\",\n",
    "                                            target_size = (64, 64),\n",
    "                                            batch_size = 32,\n",
    "                                            class_mode = 'binary')"
   ]
  },
  {
   "cell_type": "markdown",
   "id": "4f6bfa07",
   "metadata": {
    "colab_type": "text",
    "id": "af8O4l90gk7B"
   },
   "source": [
    "## Part 2 - Building the CNN"
   ]
  },
  {
   "cell_type": "markdown",
   "id": "958dcff6",
   "metadata": {
    "colab_type": "text",
    "id": "ces1gXY2lmoX"
   },
   "source": [
    "### Initialising the CNN"
   ]
  },
  {
   "cell_type": "code",
   "execution_count": 5,
   "id": "94c27bca",
   "metadata": {},
   "outputs": [],
   "source": [
    "cnn = tf.keras.models.Sequential()"
   ]
  },
  {
   "cell_type": "markdown",
   "id": "c94a0289",
   "metadata": {
    "colab_type": "text",
    "id": "u5YJj_XMl5LF"
   },
   "source": [
    "### Step 1 - Convolution"
   ]
  },
  {
   "cell_type": "code",
   "execution_count": 6,
   "id": "8392a480",
   "metadata": {},
   "outputs": [],
   "source": [
    "cnn.add(tf.keras.layers.Conv2D(filters=32, kernel_size=3,activation='relu',input_shape=[64, 64, 3]))"
   ]
  },
  {
   "cell_type": "markdown",
   "id": "06e4dfba",
   "metadata": {
    "colab_type": "text",
    "id": "tf87FpvxmNOJ"
   },
   "source": [
    "### Step 2 - Pooling"
   ]
  },
  {
   "cell_type": "code",
   "execution_count": 7,
   "id": "d28908e0",
   "metadata": {},
   "outputs": [],
   "source": [
    "cnn.add(tf.keras.layers.MaxPool2D(pool_size=2, strides=2))"
   ]
  },
  {
   "cell_type": "markdown",
   "id": "56875612",
   "metadata": {
    "colab_type": "text",
    "id": "xaTOgD8rm4mU"
   },
   "source": [
    "### Adding a second convolutional layer"
   ]
  },
  {
   "cell_type": "code",
   "execution_count": 8,
   "id": "14bb2cc4",
   "metadata": {},
   "outputs": [],
   "source": [
    "cnn.add(tf.keras.layers.Conv2D(filters=32, kernel_size=3, activation='relu'))\n",
    "cnn.add(tf.keras.layers.MaxPool2D(pool_size=2, strides=2))"
   ]
  },
  {
   "cell_type": "markdown",
   "id": "74d610ac",
   "metadata": {
    "colab_type": "text",
    "id": "tmiEuvTunKfk"
   },
   "source": [
    "### Step 3 - Flattening"
   ]
  },
  {
   "cell_type": "code",
   "execution_count": 9,
   "id": "d823778d",
   "metadata": {},
   "outputs": [],
   "source": [
    "cnn.add(tf.keras.layers.Flatten())"
   ]
  },
  {
   "cell_type": "markdown",
   "id": "d8cbc4fe",
   "metadata": {
    "colab_type": "text",
    "id": "dAoSECOm203v"
   },
   "source": [
    "### Step 4 - Full Connection"
   ]
  },
  {
   "cell_type": "code",
   "execution_count": 10,
   "id": "7a6a8da6",
   "metadata": {},
   "outputs": [],
   "source": [
    "cnn.add(tf.keras.layers.Dense(units=128, activation='relu'))\n",
    "#rectifier activation "
   ]
  },
  {
   "cell_type": "markdown",
   "id": "3247d82c",
   "metadata": {
    "colab_type": "text",
    "id": "yTldFvbX28Na"
   },
   "source": [
    "### Step 5 - Output Layer"
   ]
  },
  {
   "cell_type": "code",
   "execution_count": 11,
   "id": "ade25fe2",
   "metadata": {},
   "outputs": [],
   "source": [
    "cnn.add(tf.keras.layers.Dense(units=1, activation='sigmoid'))"
   ]
  },
  {
   "cell_type": "markdown",
   "id": "b5f30efe",
   "metadata": {
    "colab_type": "text",
    "id": "D6XkI90snSDl"
   },
   "source": [
    "## Part 3 - Training the CNN"
   ]
  },
  {
   "cell_type": "markdown",
   "id": "11e449fc",
   "metadata": {
    "colab_type": "text",
    "id": "vfrFQACEnc6i"
   },
   "source": [
    "### Compiling the CNN"
   ]
  },
  {
   "cell_type": "code",
   "execution_count": 12,
   "id": "bb80215a",
   "metadata": {},
   "outputs": [],
   "source": [
    "cnn.compile(optimizer = 'adam', loss = 'binary_crossentropy', metrics = ['accuracy'])"
   ]
  },
  {
   "cell_type": "markdown",
   "id": "bc1ba77e",
   "metadata": {
    "colab_type": "text",
    "id": "ehS-v3MIpX2h"
   },
   "source": [
    "### Training the CNN on the Training set and evaluating it on the Test set"
   ]
  },
  {
   "cell_type": "code",
   "execution_count": 13,
   "id": "782c6798",
   "metadata": {
    "scrolled": true
   },
   "outputs": [
    {
     "name": "stdout",
     "output_type": "stream",
     "text": [
      "Epoch 1/25\n",
      "251/251 [==============================] - 107s 422ms/step - loss: 0.6739 - accuracy: 0.5793 - val_loss: 0.6126 - val_accuracy: 0.6742\n",
      "Epoch 2/25\n",
      "251/251 [==============================] - 33s 131ms/step - loss: 0.5981 - accuracy: 0.6753 - val_loss: 0.7199 - val_accuracy: 0.5986\n",
      "Epoch 3/25\n",
      "251/251 [==============================] - 34s 135ms/step - loss: 0.5494 - accuracy: 0.7217 - val_loss: 0.5270 - val_accuracy: 0.7375\n",
      "Epoch 4/25\n",
      "251/251 [==============================] - 34s 136ms/step - loss: 0.5306 - accuracy: 0.7297 - val_loss: 0.5418 - val_accuracy: 0.7316\n",
      "Epoch 5/25\n",
      "251/251 [==============================] - 35s 140ms/step - loss: 0.5018 - accuracy: 0.7540 - val_loss: 0.5259 - val_accuracy: 0.7484\n",
      "Epoch 6/25\n",
      "251/251 [==============================] - 34s 136ms/step - loss: 0.4911 - accuracy: 0.7613 - val_loss: 0.4986 - val_accuracy: 0.7608\n",
      "Epoch 7/25\n",
      "251/251 [==============================] - 34s 136ms/step - loss: 0.4763 - accuracy: 0.7738 - val_loss: 0.4855 - val_accuracy: 0.7642\n",
      "Epoch 8/25\n",
      "251/251 [==============================] - 34s 136ms/step - loss: 0.4658 - accuracy: 0.7735 - val_loss: 0.4744 - val_accuracy: 0.7790\n",
      "Epoch 9/25\n",
      "251/251 [==============================] - 34s 136ms/step - loss: 0.4472 - accuracy: 0.7899 - val_loss: 0.4805 - val_accuracy: 0.7706\n",
      "Epoch 10/25\n",
      "251/251 [==============================] - 34s 136ms/step - loss: 0.4376 - accuracy: 0.7929 - val_loss: 0.4689 - val_accuracy: 0.7776\n",
      "Epoch 11/25\n",
      "251/251 [==============================] - 34s 136ms/step - loss: 0.4260 - accuracy: 0.8049 - val_loss: 0.4886 - val_accuracy: 0.7692\n",
      "Epoch 12/25\n",
      "251/251 [==============================] - 34s 136ms/step - loss: 0.4222 - accuracy: 0.8057 - val_loss: 0.4596 - val_accuracy: 0.7865\n",
      "Epoch 13/25\n",
      "251/251 [==============================] - 34s 137ms/step - loss: 0.4051 - accuracy: 0.8099 - val_loss: 0.4804 - val_accuracy: 0.7795\n",
      "Epoch 14/25\n",
      "251/251 [==============================] - 35s 139ms/step - loss: 0.3966 - accuracy: 0.8190 - val_loss: 0.5060 - val_accuracy: 0.7711\n",
      "Epoch 15/25\n",
      "251/251 [==============================] - 34s 137ms/step - loss: 0.3921 - accuracy: 0.8215 - val_loss: 0.4538 - val_accuracy: 0.7998\n",
      "Epoch 16/25\n",
      "251/251 [==============================] - 35s 137ms/step - loss: 0.3844 - accuracy: 0.8231 - val_loss: 0.4712 - val_accuracy: 0.7889\n",
      "Epoch 17/25\n",
      "251/251 [==============================] - 35s 138ms/step - loss: 0.3705 - accuracy: 0.8337 - val_loss: 0.4359 - val_accuracy: 0.8102\n",
      "Epoch 18/25\n",
      "251/251 [==============================] - 35s 138ms/step - loss: 0.3629 - accuracy: 0.8377 - val_loss: 0.4395 - val_accuracy: 0.8136\n",
      "Epoch 19/25\n",
      "251/251 [==============================] - 34s 137ms/step - loss: 0.3572 - accuracy: 0.8402 - val_loss: 0.4610 - val_accuracy: 0.8047\n",
      "Epoch 20/25\n",
      "251/251 [==============================] - 35s 138ms/step - loss: 0.3556 - accuracy: 0.8372 - val_loss: 0.4562 - val_accuracy: 0.8052\n",
      "Epoch 21/25\n",
      "251/251 [==============================] - 35s 138ms/step - loss: 0.3501 - accuracy: 0.8426 - val_loss: 0.4671 - val_accuracy: 0.8013\n",
      "Epoch 22/25\n",
      "251/251 [==============================] - 35s 140ms/step - loss: 0.3372 - accuracy: 0.8491 - val_loss: 0.4428 - val_accuracy: 0.8077\n",
      "Epoch 23/25\n",
      "251/251 [==============================] - 35s 139ms/step - loss: 0.3343 - accuracy: 0.8518 - val_loss: 0.4804 - val_accuracy: 0.7949\n",
      "Epoch 24/25\n",
      "251/251 [==============================] - 35s 139ms/step - loss: 0.3256 - accuracy: 0.8543 - val_loss: 0.5445 - val_accuracy: 0.7598\n",
      "Epoch 25/25\n",
      "251/251 [==============================] - 34s 137ms/step - loss: 0.3215 - accuracy: 0.8595 - val_loss: 0.4824 - val_accuracy: 0.8072\n"
     ]
    },
    {
     "data": {
      "text/plain": [
       "<keras.callbacks.History at 0x22890f25a20>"
      ]
     },
     "execution_count": 13,
     "metadata": {},
     "output_type": "execute_result"
    }
   ],
   "source": [
    "cnn.fit(x = training_set, validation_data = test_set, epochs = 25)"
   ]
  },
  {
   "cell_type": "code",
   "execution_count": 14,
   "id": "652790d2",
   "metadata": {},
   "outputs": [],
   "source": [
    "cnn.save('model.h5')"
   ]
  },
  {
   "cell_type": "markdown",
   "id": "7cd44316",
   "metadata": {
    "colab_type": "text",
    "id": "U3PZasO0006Z"
   },
   "source": [
    "# Part 4 - Making a single prediction"
   ]
  },
  {
   "cell_type": "code",
   "execution_count": 15,
   "id": "ba37a20f",
   "metadata": {},
   "outputs": [
    {
     "name": "stdout",
     "output_type": "stream",
     "text": [
      "1/1 [==============================] - 0s 72ms/step\n"
     ]
    },
    {
     "data": {
      "text/plain": [
       "{'cats': 0, 'dogs': 1}"
      ]
     },
     "execution_count": 15,
     "metadata": {},
     "output_type": "execute_result"
    }
   ],
   "source": [
    "import numpy as np\n",
    "from tensorflow.keras.preprocessing import image\n",
    "test_image = image.load_img(r\"C:\\Users\\udaya\\OneDrive\\Desktop\\Deep Learning\\dog_cat_classification\\test_set\\dogs\\dog.4012.jpg\", target_size = (64, 64))\n",
    "test_image = image.img_to_array(test_image)\n",
    "test_image = np.expand_dims(test_image, axis = 0)\n",
    "result = cnn.predict(test_image)\n",
    "training_set.class_indices"
   ]
  },
  {
   "cell_type": "code",
   "execution_count": 16,
   "id": "9f772fc8",
   "metadata": {},
   "outputs": [
    {
     "name": "stdout",
     "output_type": "stream",
     "text": [
      "dog\n"
     ]
    }
   ],
   "source": [
    "if result[0][0] == 1:\n",
    "  prediction = 'dog'\n",
    "else:\n",
    "  prediction = 'cat'\n",
    "print(prediction)"
   ]
  }
 ],
 "metadata": {
  "kernelspec": {
   "display_name": "Python 3 (ipykernel)",
   "language": "python",
   "name": "python3"
  },
  "language_info": {
   "codemirror_mode": {
    "name": "ipython",
    "version": 3
   },
   "file_extension": ".py",
   "mimetype": "text/x-python",
   "name": "python",
   "nbconvert_exporter": "python",
   "pygments_lexer": "ipython3",
   "version": "3.10.9"
  }
 },
 "nbformat": 4,
 "nbformat_minor": 5
}
